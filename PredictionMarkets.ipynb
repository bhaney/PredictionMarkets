{
 "cells": [
  {
   "cell_type": "code",
   "execution_count": 1,
   "metadata": {},
   "outputs": [],
   "source": [
    "from prediction.model import *"
   ]
  },
  {
   "cell_type": "markdown",
   "metadata": {},
   "source": [
    "# Simple Agent Based Model for Prediction Markets\n",
    "\n",
    "Each agent in the population has a personal probability $p_i$ of some event happening ('i.e. how likely is it to rain next Monday?'). In the prediction market, the agent can buy or sell \"shares\" of whether they think an event is going to happen, based on this personal probability. \n",
    "\n",
    "On the expiration date of the event (let's say next Monday), if the event is true, the shares are worth 1 dollar, and if the event is false, the shares are worth 0 dollars. If the agents believe themselves to be well-calibrated and are acting rationally, they will buy shares when the price is less than their personal probability $p_i$, and sell shares when the price is above $p_i$. \n",
    "\n",
    "This constrains the price of these shares to be between 0 and 1. It is interesting to see how the equilibrium market price of the shares should track the actual average of the population's belief, if at all, and how this might depend on the shape of the probability distribution for the population. "
   ]
  },
  {
   "cell_type": "code",
   "execution_count": 2,
   "metadata": {},
   "outputs": [
    {
     "name": "stdout",
     "output_type": "stream",
     "text": [
      "creating 500 agents..\n",
      "running model...\n"
     ]
    }
   ],
   "source": [
    "# Simulate n_agents, and has them step through n_steps turns\n",
    "# Each agents gets to place one bid and one ask every turn\n",
    "# The order in which they trade is random, but each one gets to go once before it loops back around\n",
    "\n",
    "n_steps = 200\n",
    "n_agents = 500\n",
    "model = PredictionMarketModel(n_agents)\n",
    "for i in range(n_steps):\n",
    "    model.step()"
   ]
  },
  {
   "cell_type": "code",
   "execution_count": 3,
   "metadata": {},
   "outputs": [
    {
     "data": {
      "text/html": [
       "<div>\n",
       "<style scoped>\n",
       "    .dataframe tbody tr th:only-of-type {\n",
       "        vertical-align: middle;\n",
       "    }\n",
       "\n",
       "    .dataframe tbody tr th {\n",
       "        vertical-align: top;\n",
       "    }\n",
       "\n",
       "    .dataframe thead th {\n",
       "        text-align: right;\n",
       "    }\n",
       "</style>\n",
       "<table border=\"1\" class=\"dataframe\">\n",
       "  <thead>\n",
       "    <tr style=\"text-align: right;\">\n",
       "      <th></th>\n",
       "      <th>bid_price</th>\n",
       "      <th>ask_price</th>\n",
       "      <th>volume</th>\n",
       "    </tr>\n",
       "  </thead>\n",
       "  <tbody>\n",
       "    <tr>\n",
       "      <th>180</th>\n",
       "      <td>0.65</td>\n",
       "      <td>0.66</td>\n",
       "      <td>298</td>\n",
       "    </tr>\n",
       "    <tr>\n",
       "      <th>181</th>\n",
       "      <td>0.66</td>\n",
       "      <td>0.66</td>\n",
       "      <td>201</td>\n",
       "    </tr>\n",
       "    <tr>\n",
       "      <th>182</th>\n",
       "      <td>0.65</td>\n",
       "      <td>0.65</td>\n",
       "      <td>295</td>\n",
       "    </tr>\n",
       "    <tr>\n",
       "      <th>183</th>\n",
       "      <td>0.66</td>\n",
       "      <td>0.66</td>\n",
       "      <td>205</td>\n",
       "    </tr>\n",
       "    <tr>\n",
       "      <th>184</th>\n",
       "      <td>0.65</td>\n",
       "      <td>0.66</td>\n",
       "      <td>288</td>\n",
       "    </tr>\n",
       "    <tr>\n",
       "      <th>185</th>\n",
       "      <td>0.66</td>\n",
       "      <td>0.66</td>\n",
       "      <td>210</td>\n",
       "    </tr>\n",
       "    <tr>\n",
       "      <th>186</th>\n",
       "      <td>0.65</td>\n",
       "      <td>0.66</td>\n",
       "      <td>293</td>\n",
       "    </tr>\n",
       "    <tr>\n",
       "      <th>187</th>\n",
       "      <td>0.66</td>\n",
       "      <td>0.66</td>\n",
       "      <td>206</td>\n",
       "    </tr>\n",
       "    <tr>\n",
       "      <th>188</th>\n",
       "      <td>0.65</td>\n",
       "      <td>0.66</td>\n",
       "      <td>296</td>\n",
       "    </tr>\n",
       "    <tr>\n",
       "      <th>189</th>\n",
       "      <td>0.66</td>\n",
       "      <td>0.66</td>\n",
       "      <td>203</td>\n",
       "    </tr>\n",
       "    <tr>\n",
       "      <th>190</th>\n",
       "      <td>0.65</td>\n",
       "      <td>0.65</td>\n",
       "      <td>297</td>\n",
       "    </tr>\n",
       "    <tr>\n",
       "      <th>191</th>\n",
       "      <td>0.66</td>\n",
       "      <td>0.66</td>\n",
       "      <td>204</td>\n",
       "    </tr>\n",
       "    <tr>\n",
       "      <th>192</th>\n",
       "      <td>0.65</td>\n",
       "      <td>0.66</td>\n",
       "      <td>292</td>\n",
       "    </tr>\n",
       "    <tr>\n",
       "      <th>193</th>\n",
       "      <td>0.66</td>\n",
       "      <td>0.66</td>\n",
       "      <td>205</td>\n",
       "    </tr>\n",
       "    <tr>\n",
       "      <th>194</th>\n",
       "      <td>0.65</td>\n",
       "      <td>0.65</td>\n",
       "      <td>296</td>\n",
       "    </tr>\n",
       "    <tr>\n",
       "      <th>195</th>\n",
       "      <td>0.66</td>\n",
       "      <td>0.66</td>\n",
       "      <td>205</td>\n",
       "    </tr>\n",
       "    <tr>\n",
       "      <th>196</th>\n",
       "      <td>0.67</td>\n",
       "      <td>0.67</td>\n",
       "      <td>296</td>\n",
       "    </tr>\n",
       "    <tr>\n",
       "      <th>197</th>\n",
       "      <td>0.66</td>\n",
       "      <td>0.66</td>\n",
       "      <td>205</td>\n",
       "    </tr>\n",
       "    <tr>\n",
       "      <th>198</th>\n",
       "      <td>0.67</td>\n",
       "      <td>0.67</td>\n",
       "      <td>246</td>\n",
       "    </tr>\n",
       "    <tr>\n",
       "      <th>199</th>\n",
       "      <td>0.66</td>\n",
       "      <td>0.67</td>\n",
       "      <td>262</td>\n",
       "    </tr>\n",
       "  </tbody>\n",
       "</table>\n",
       "</div>"
      ],
      "text/plain": [
       "     bid_price  ask_price  volume\n",
       "180       0.65       0.66     298\n",
       "181       0.66       0.66     201\n",
       "182       0.65       0.65     295\n",
       "183       0.66       0.66     205\n",
       "184       0.65       0.66     288\n",
       "185       0.66       0.66     210\n",
       "186       0.65       0.66     293\n",
       "187       0.66       0.66     206\n",
       "188       0.65       0.66     296\n",
       "189       0.66       0.66     203\n",
       "190       0.65       0.65     297\n",
       "191       0.66       0.66     204\n",
       "192       0.65       0.66     292\n",
       "193       0.66       0.66     205\n",
       "194       0.65       0.65     296\n",
       "195       0.66       0.66     205\n",
       "196       0.67       0.67     296\n",
       "197       0.66       0.66     205\n",
       "198       0.67       0.67     246\n",
       "199       0.66       0.67     262"
      ]
     },
     "execution_count": 3,
     "metadata": {},
     "output_type": "execute_result"
    }
   ],
   "source": [
    "# at every iteration save the highest bid price, lowest ask price, \n",
    "# and how many trades were done that turn\n",
    "df = model.datacollector.get_model_vars_dataframe()\n",
    "df.tail(20)"
   ]
  },
  {
   "cell_type": "markdown",
   "metadata": {},
   "source": [
    "Plot of bids/asks for the population at the end of the simulation"
   ]
  },
  {
   "cell_type": "code",
   "execution_count": 8,
   "metadata": {},
   "outputs": [
    {
     "data": {
      "image/png": "[encoded data removed]",
      "text/plain": [
       "<Figure size 864x576 with 1 Axes>"
      ]
     },
     "metadata": {
      "needs_background": "light"
     },
     "output_type": "display_data"
    }
   ],
   "source": [
    "%matplotlib inline\n",
    "import matplotlib.pyplot as plt\n",
    "agent_bids = [a.bid for a in model.schedule.agents]\n",
    "agent_asks = [a.ask for a in model.schedule.agents]\n",
    "agent_probs = [a.prob for a in model.schedule.agents]\n",
    "plt.figure(figsize=(12,8))\n",
    "plt.hist(agent_bids, bins=101, range=(0,1),alpha=0.6)\n",
    "plt.hist(agent_asks, bins=101, range=(0,1),alpha=0.6)\n",
    "plt.hist(agent_probs, bins=101, range=(0,1),alpha=0.6)\n",
    "plt.title('the current bids/asks at the end of {} turns'.format(n_steps))\n",
    "plt.legend(['bids','asks','probabilities'])\n",
    "plt.show()"
   ]
  },
  {
   "cell_type": "markdown",
   "metadata": {},
   "source": [
    "The probability disitrubtion of the population probabilities is bimodal. Even so, the bid/ask spread still finds the mean of the distribution."
   ]
  },
  {
   "cell_type": "code",
   "execution_count": 9,
   "metadata": {},
   "outputs": [
    {
     "data": {
      "image/png": "[encoded data removed]",
      "text/plain": [
       "<Figure size 864x576 with 1 Axes>"
      ]
     },
     "metadata": {
      "needs_background": "light"
     },
     "output_type": "display_data"
    }
   ],
   "source": [
    "plt.figure(figsize=(12,8))\n",
    "plt.hist(agent_probs, bins=99,range=(0,1))\n",
    "plt.title('Histogram of Agent Confidences')\n",
    "plt.show()"
   ]
  },
  {
   "cell_type": "markdown",
   "metadata": {},
   "source": [
    "The agents all begin with their bids at 0 dollars, and their asks at 1 dollar.\n",
    "\n",
    "The agents are only allowed to change their bid/ask price by 1 cent every turn.\n",
    "\n",
    "A better update would make this more stochastic."
   ]
  },
  {
   "cell_type": "code",
   "execution_count": 10,
   "metadata": {},
   "outputs": [
    {
     "data": {
      "image/png": "[encoded data removed]",
      "text/plain": [
       "<Figure size 864x576 with 1 Axes>"
      ]
     },
     "metadata": {
      "needs_background": "light"
     },
     "output_type": "display_data"
    }
   ],
   "source": [
    "plt.figure(figsize=(12,8))\n",
    "plt.plot(df['bid_price'])\n",
    "plt.plot(df['ask_price'])\n",
    "plt.title('Bid/Ask prices per step')\n",
    "plt.legend(['bid_price','ask_price'])\n",
    "plt.show()"
   ]
  },
  {
   "cell_type": "code",
   "execution_count": 11,
   "metadata": {},
   "outputs": [
    {
     "name": "stdout",
     "output_type": "stream",
     "text": [
      "mean probability of the agent population: 0.68\n",
      "ask price: 0.67\n",
      "bid price: 0.66\n"
     ]
    }
   ],
   "source": [
    "print('mean probability of the agent population: {}'.format(round(np.mean(agent_probs),2)))\n",
    "print('ask price: {}'.format(round(df['ask_price'].values[-1],2)))\n",
    "print('bid price: {}'.format(round(df['bid_price'].values[-1],2)))"
   ]
  },
  {
   "cell_type": "code",
   "execution_count": null,
   "metadata": {},
   "outputs": [],
   "source": []
  },
  {
   "cell_type": "code",
   "execution_count": null,
   "metadata": {},
   "outputs": [],
   "source": []
  }
 ],
 "metadata": {
  "kernelspec": {
   "display_name": "Python 3",
   "language": "python",
   "name": "python3"
  },
  "language_info": {
   "codemirror_mode": {
    "name": "ipython",
    "version": 3
   },
   "file_extension": ".py",
   "mimetype": "text/x-python",
   "name": "python",
   "nbconvert_exporter": "python",
   "pygments_lexer": "ipython3",
   "version": "3.6.8"
  },
  "toc": {
   "base_numbering": 1,
   "nav_menu": {},
   "number_sections": true,
   "sideBar": true,
   "skip_h1_title": false,
   "title_cell": "Table of Contents",
   "title_sidebar": "Contents",
   "toc_cell": false,
   "toc_position": {},
   "toc_section_display": true,
   "toc_window_display": false
  }
 },
 "nbformat": 4,
 "nbformat_minor": 2
}
