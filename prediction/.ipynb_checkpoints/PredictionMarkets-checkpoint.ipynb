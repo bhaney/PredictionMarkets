{
 "cells": [
  {
   "cell_type": "code",
   "execution_count": 1,
   "metadata": {},
   "outputs": [],
   "source": [
    "from mesa import Agent, Model\n",
    "from mesa.time import RandomActivation, StagedActivation\n",
    "#from mesa.space import MultiGrid\n",
    "from mesa.datacollection import DataCollector\n",
    "import numpy as np\n",
    "import random\n",
    "from operator import itemgetter\n",
    "\n",
    "def compute_bid(model):\n",
    "    if len(model.bid_queue):\n",
    "        return model.bid_queue[0]['price']\n",
    "    else:\n",
    "        return np.nan\n",
    "\n",
    "def compute_ask(model):\n",
    "    if len(model.ask_queue):\n",
    "        return model.ask_queue[0]['price']\n",
    "    else:\n",
    "        return np.nan\n",
    "\n",
    "def compute_volume(model):\n",
    "    n_trades = 2*model.num_agents - len(model.bidders) - len(model.askers)\n",
    "    return n_trades"
   ]
  },
  {
   "cell_type": "code",
   "execution_count": null,
   "metadata": {},
   "outputs": [],
   "source": [
    "class PredictionMarketModel(Model):\n",
    "    \"\"\"A simple model of a market where people bid/ask for prediciton shares.\n",
    "\n",
    "    All the agents begin with one unit of currency, and each time step can give\n",
    "    a unit of currency to another agent. Note how, over time, this produces a\n",
    "    highly skewed distribution of wealth.\n",
    "    \"\"\"\n",
    "\n",
    "    def __init__(self, N=100):\n",
    "        self.num_agents = N\n",
    "        self.schedule = StagedActivation(self, shuffle=True,\n",
    "                stage_list=['prepare_step','trade_step','modify_step'])\n",
    "        self.datacollector = DataCollector(\n",
    "            model_reporters={\"bid_price\": compute_bid, \"ask_price\": compute_ask,\n",
    "                             \"volume\": compute_volume},\n",
    "            agent_reporters={\"Certainty\": \"prob\", \"Bids\":\"bid\", \"Asks\":\"ask\"}\n",
    "            )\n",
    "        self.bid_queue = []\n",
    "        self.ask_queue = []\n",
    "        self.bidders = set()\n",
    "        self.askers = set()\n",
    "        # Create probability distribution\n",
    "        mu = 0.62\n",
    "        sigma = 0.1\n",
    "        # Create agents\n",
    "        print('creating agents..')\n",
    "        for i in range(self.num_agents):\n",
    "            prob = np.random.normal(mu, sigma)\n",
    "            #prob = np.random.uniform(0.01, 0.99)\n",
    "            #if random.randint(0,1):\n",
    "            #    prob = np.random.normal(0.62, 0.1)\n",
    "            #else:\n",
    "            #    prob = np.random.normal(0.22, 0.1)\n",
    "            a = PredictionAgent(prob, i, self)\n",
    "            self.schedule.add(a)\n",
    "\n",
    "        print('running model...')\n",
    "        self.running = True\n",
    "    \n",
    "    def step(self):\n",
    "        #clear old bids/asks and set new ones\n",
    "        self.bid_queue.clear()\n",
    "        self.ask_queue.clear()\n",
    "        self.bidders.clear()\n",
    "        self.askers.clear()\n",
    "        #sort the bids/asks and exchange\n",
    "        self.schedule.step()\n",
    "        # collect data\n",
    "        self.datacollector.collect(self)\n",
    "\n",
    "    def run_model(self, n):\n",
    "        for i in range(n):\n",
    "            self.step()"
   ]
  },
  {
   "cell_type": "code",
   "execution_count": null,
   "metadata": {},
   "outputs": [],
   "source": [
    "class PredictionAgent(Agent):\n",
    "    \"\"\" An agent with fixed confidence.\"\"\"\n",
    "    def __init__(self, p, unique_id, model):\n",
    "        super().__init__(unique_id, model)\n",
    "        p = round(p,2)\n",
    "        if p >= 1:\n",
    "            p = 0.99\n",
    "        elif p <= 0:\n",
    "            p = 0.01\n",
    "        self.prob = p\n",
    "        self.bid = 0.\n",
    "        self.ask = 1.\n",
    "\n",
    "    def set_bids_asks(self):\n",
    "        # set the price you're willing to sell and buy at\n",
    "        self.model.ask_queue.append({'id': self.unique_id, 'price':self.ask})\n",
    "        self.model.askers.add(self.unique_id)\n",
    "        self.model.bid_queue.append({'id': self.unique_id, 'price':self.bid})\n",
    "        self.model.bidders.add(self.unique_id)\n",
    "\n",
    "    def buy(self):\n",
    "        #buy a share from someone else\n",
    "        if len(self.model.ask_queue) and self.model.ask_queue[0]['price'] < self.prob:\n",
    "            bought = self.model.ask_queue.pop(0)\n",
    "            self.model.askers.remove(bought['id'])\n",
    "\n",
    "    def sell(self):\n",
    "        #sell a share to someone else\n",
    "        if len(self.model.bid_queue) and self.model.bid_queue[0]['price'] > self.prob:\n",
    "            sold = self.model.bid_queue.pop(0)\n",
    "            self.model.bidders.remove(sold['id'])\n",
    "\n",
    "    # everyone sets their bids and asks in the market\n",
    "    def prepare_step(self):\n",
    "        self.set_bids_asks()\n",
    "        self.model.bid_queue = sorted(self.model.bid_queue, key=itemgetter('price'), reverse=True)\n",
    "        self.model.ask_queue = sorted(self.model.ask_queue, key=itemgetter('price'))\n",
    "    \n",
    "    # everyone trades, order of agent is random. Everyone tries to both buy and sell once.\n",
    "    def trade_step(self):\n",
    "        self.sell()\n",
    "        self.buy()\n",
    "            \n",
    "    # if the ask/bid was filled, agents modify their price \n",
    "    def modify_step(self):\n",
    "        # see if someone else bought your ask\n",
    "        if self.unique_id in self.model.askers and self.ask > self.prob+0.01:\n",
    "            #if no one has bought your share, lower your asking price\n",
    "            self.ask = self.ask - 0.01\n",
    "        elif self.unique_id not in self.model.askers and self.ask < 1.00:\n",
    "            #if someone did buy it, raise your asking price\n",
    "            self.ask = self.ask + 0.01\n",
    "        # see if someone else filled your bid\n",
    "        if self.unique_id in self.model.bidders and self.bid < self.prob-0.01:\n",
    "            # if no one sold to you, raise your bidding price\n",
    "            self.bid = self.bid + 0.01\n",
    "        elif self.unique_id not in self.model.bidders and self.bid > 0.00:\n",
    "            #if someone did sell you their share, lower your bidding price\n",
    "            self.ask = self.bid - 0.01"
   ]
  },
  {
   "cell_type": "code",
   "execution_count": 2,
   "metadata": {},
   "outputs": [
    {
     "name": "stdout",
     "output_type": "stream",
     "text": [
      "creating agents..\n",
      "running model...\n"
     ]
    }
   ],
   "source": [
    "model = PredictionMarketModel(1000)\n",
    "for i in range(250):\n",
    "    model.step()"
   ]
  },
  {
   "cell_type": "code",
   "execution_count": 3,
   "metadata": {},
   "outputs": [],
   "source": [
    "df = model.datacollector.get_model_vars_dataframe()"
   ]
  },
  {
   "cell_type": "code",
   "execution_count": 4,
   "metadata": {},
   "outputs": [
    {
     "data": {
      "image/png": "[encoded data removed]",
      "text/plain": [
       "<Figure size 720x576 with 1 Axes>"
      ]
     },
     "metadata": {
      "needs_background": "light"
     },
     "output_type": "display_data"
    }
   ],
   "source": [
    "%matplotlib inline\n",
    "import matplotlib.pyplot as plt\n",
    "agent_bids = [a.bid for a in model.schedule.agents]\n",
    "agent_asks = [a.ask for a in model.schedule.agents]\n",
    "agent_probs = [a.prob for a in model.schedule.agents]\n",
    "plt.figure(figsize=(10,8))\n",
    "plt.hist(agent_bids, bins=100, range=(0,1),alpha=0.7)\n",
    "plt.hist(agent_asks, bins=100, range=(0,1),alpha=0.7)\n",
    "plt.hist(agent_probs, bins=100, range=(0,1),alpha=0.7)\n",
    "plt.legend(['bids','asks','probabilities'])\n",
    "plt.show()"
   ]
  },
  {
   "cell_type": "code",
   "execution_count": 5,
   "metadata": {},
   "outputs": [
    {
     "data": {
      "image/png": "[encoded data removed]",
      "text/plain": [
       "<Figure size 720x576 with 1 Axes>"
      ]
     },
     "metadata": {
      "needs_background": "light"
     },
     "output_type": "display_data"
    }
   ],
   "source": [
    "plt.figure(figsize=(10,8))\n",
    "plt.hist(agent_probs)\n",
    "plt.show()"
   ]
  },
  {
   "cell_type": "code",
   "execution_count": 6,
   "metadata": {},
   "outputs": [
    {
     "data": {
      "image/png": "[encoded data removed]",
      "text/plain": [
       "<Figure size 720x576 with 1 Axes>"
      ]
     },
     "metadata": {
      "needs_background": "light"
     },
     "output_type": "display_data"
    }
   ],
   "source": [
    "plt.figure(figsize=(10,8))\n",
    "plt.plot(df['bid_price'])\n",
    "plt.plot(df['ask_price'])\n",
    "plt.legend(['bid_price','ask_price'])\n",
    "plt.show()"
   ]
  },
  {
   "cell_type": "code",
   "execution_count": 7,
   "metadata": {},
   "outputs": [
    {
     "name": "stdout",
     "output_type": "stream",
     "text": [
      "mean: 0.62246\n",
      "ask price: 0.6100000000000003\n",
      "bid price: 0.6100000000000003\n"
     ]
    }
   ],
   "source": [
    "print('mean: {}'.format(np.mean(agent_probs)))\n",
    "print('ask price: {}'.format(df['ask_price'].values[-1]))\n",
    "print('bid price: {}'.format(df['bid_price'].values[-1]))"
   ]
  },
  {
   "cell_type": "code",
   "execution_count": 8,
   "metadata": {},
   "outputs": [
    {
     "name": "stdout",
     "output_type": "stream",
     "text": [
      "std dev: 0.09881572951711685\n"
     ]
    }
   ],
   "source": [
    "print('std dev: {}'.format(np.sqrt(np.var(agent_probs))))"
   ]
  },
  {
   "cell_type": "code",
   "execution_count": null,
   "metadata": {},
   "outputs": [],
   "source": []
  }
 ],
 "metadata": {
  "kernelspec": {
   "display_name": "Python 3",
   "language": "python",
   "name": "python3"
  },
  "language_info": {
   "codemirror_mode": {
    "name": "ipython",
    "version": 3
   },
   "file_extension": ".py",
   "mimetype": "text/x-python",
   "name": "python",
   "nbconvert_exporter": "python",
   "pygments_lexer": "ipython3",
   "version": "3.6.8"
  },
  "toc": {
   "base_numbering": 1,
   "nav_menu": {},
   "number_sections": true,
   "sideBar": true,
   "skip_h1_title": false,
   "title_cell": "Table of Contents",
   "title_sidebar": "Contents",
   "toc_cell": false,
   "toc_position": {},
   "toc_section_display": true,
   "toc_window_display": false
  }
 },
 "nbformat": 4,
 "nbformat_minor": 2
}
